{
  "cells": [
    {
      "attachments": {},
      "cell_type": "markdown",
      "metadata": {
        "id": "hDzAdlmnDap7"
      },
      "source": [
        "#**SETTING UP DEPENDENCIES**"
      ]
    },
    {
      "cell_type": "code",
      "execution_count": null,
      "metadata": {
        "id": "hbrsnuoLDV_k"
      },
      "outputs": [],
      "source": [
        "import pandas as pd\n",
        "import numpy as np\n",
        "import seaborn as sns\n",
        "import tensorflow as tf\n",
        "\n",
        "from sklearn.model_selection import train_test_split\n",
        "from sklearn.preprocessing import StandardScaler, MinMaxScaler\n",
        "from sklearn.pipeline import make_pipeline\n",
        "from sklearn.pipeline import Pipeline\n",
        "from sklearn.feature_selection import SelectKBest, f_regression\n",
        "from sklearn.utils import shuffle\n",
        "\n",
        "from sklearn.linear_model import LinearRegression, LogisticRegression, Ridge, Lasso, LassoCV, RidgeCV, LogisticRegression\n",
        "from sklearn.ensemble import RandomForestRegressor, GradientBoostingRegressor, BaggingRegressor\n",
        "from sklearn.metrics import mean_absolute_error, mean_squared_error, r2_score,accuracy_score\n",
        "from sklearn.model_selection import GridSearchCV,cross_val_score, KFold\n",
        "from sklearn.preprocessing import PolynomialFeatures\n",
        "\n",
        "from joblib import dump\n",
        "\n",
        "from xgboost import XGBRegressor\n",
        "from sklearn.svm import SVR\n",
        "\n",
        "\n"
      ]
    },
    {
      "attachments": {},
      "cell_type": "markdown",
      "metadata": {
        "id": "XtVJvI-eHA8A"
      },
      "source": [
        "#**IMPORTING THE DATASET**"
      ]
    },
    {
      "cell_type": "code",
      "execution_count": null,
      "metadata": {
        "colab": {
          "base_uri": "https://localhost:8080/"
        },
        "id": "SPYV_nlqHRgE",
        "outputId": "030705fd-740c-4376-ae2d-b8df04720bcf"
      },
      "outputs": [
        {
          "name": "stdout",
          "output_type": "stream",
          "text": [
            "Drive already mounted at /content/drive; to attempt to forcibly remount, call drive.mount(\"/content/drive\", force_remount=True).\n"
          ]
        }
      ],
      "source": [
        "from google.colab import drive\n",
        "drive.mount('/content/drive')"
      ]
    },
    {
      "cell_type": "code",
      "execution_count": null,
      "metadata": {
        "id": "mCil180ZQibf"
      },
      "outputs": [],
      "source": [
        "data = pd.read_csv('/content/drive/MyDrive/Data.csv')"
      ]
    },
    {
      "cell_type": "code",
      "execution_count": null,
      "metadata": {
        "colab": {
          "base_uri": "https://localhost:8080/"
        },
        "id": "f9IJwnWlYcTz",
        "outputId": "589157cf-4e7f-44d0-a9f6-2ef7376959e8"
      },
      "outputs": [
        {
          "name": "stdout",
          "output_type": "stream",
          "text": [
            "Index(['YEAR', 'CONSIGNEE NAME', 'ENTRY NUMBER', 'BL', 'ARRIVAL',\n",
            "       'PROCESS STARTED', 'PROCESS FINISHED \\n(yyyy/mm/dd)',\n",
            "       'DELIVERY DATE \\n(yyyy/mm/dd)', 'PICKED UP DATE(yyyy/mm/dd)',\n",
            "       'PROCESS TIME', 'TARGET DATE', 'DELIVERY TIME', 'SHIPMENT SIZE',\n",
            "       'WEIGHT (KGS)', 'SHIPMENT DETAILS', 'SHIPPING LINES',\n",
            "       'ORIGIN OF SHIPMENT', 'ORIGIN', 'DESTINATION', 'DISTANCE',\n",
            "       'Unnamed: 20', 'Unnamed: 21', 'Unnamed: 22', 'Unnamed: 23'],\n",
            "      dtype='object')\n"
          ]
        }
      ],
      "source": [
        "print(data.columns)"
      ]
    },
    {
      "cell_type": "code",
      "execution_count": null,
      "metadata": {
        "id": "bjDbWewrqCos"
      },
      "outputs": [],
      "source": [
        "data = data[['ARRIVAL', 'PROCESS STARTED', 'PROCESS FINISHED \\n(yyyy/mm/dd)','DELIVERY DATE \\n(yyyy/mm/dd)']]\n"
      ]
    },
    {
      "attachments": {},
      "cell_type": "markdown",
      "metadata": {
        "id": "8eZJwOPjoibt"
      },
      "source": [
        "#**VISUALIZE THE DATA**"
      ]
    },
    {
      "cell_type": "code",
      "execution_count": null,
      "metadata": {
        "colab": {
          "base_uri": "https://localhost:8080/",
          "height": 206
        },
        "id": "GRG-I0ZpoiBS",
        "outputId": "6ba1951c-22cb-4037-ed39-d8119ca3d03a"
      },
      "outputs": [
        {
          "data": {
            "text/html": [
              "\n",
              "  <div id=\"df-fd83a017-eb9d-4ea9-888a-57dd175a7380\">\n",
              "    <div class=\"colab-df-container\">\n",
              "      <div>\n",
              "<style scoped>\n",
              "    .dataframe tbody tr th:only-of-type {\n",
              "        vertical-align: middle;\n",
              "    }\n",
              "\n",
              "    .dataframe tbody tr th {\n",
              "        vertical-align: top;\n",
              "    }\n",
              "\n",
              "    .dataframe thead th {\n",
              "        text-align: right;\n",
              "    }\n",
              "</style>\n",
              "<table border=\"1\" class=\"dataframe\">\n",
              "  <thead>\n",
              "    <tr style=\"text-align: right;\">\n",
              "      <th></th>\n",
              "      <th>ARRIVAL</th>\n",
              "      <th>PROCESS STARTED</th>\n",
              "      <th>PROCESS FINISHED \\n(yyyy/mm/dd)</th>\n",
              "      <th>DELIVERY DATE \\n(yyyy/mm/dd)</th>\n",
              "    </tr>\n",
              "  </thead>\n",
              "  <tbody>\n",
              "    <tr>\n",
              "      <th>0</th>\n",
              "      <td>2021-07-25</td>\n",
              "      <td>2021-07-26</td>\n",
              "      <td>2021-07-30</td>\n",
              "      <td>2021-07-31</td>\n",
              "    </tr>\n",
              "    <tr>\n",
              "      <th>1</th>\n",
              "      <td>2021-08-19</td>\n",
              "      <td>2021-08-19</td>\n",
              "      <td>2021-08-24</td>\n",
              "      <td>2021-08-27</td>\n",
              "    </tr>\n",
              "    <tr>\n",
              "      <th>2</th>\n",
              "      <td>2021-09-06</td>\n",
              "      <td>2021-09-07</td>\n",
              "      <td>2021-09-10</td>\n",
              "      <td>2021-09-10</td>\n",
              "    </tr>\n",
              "    <tr>\n",
              "      <th>3</th>\n",
              "      <td>2021-09-08</td>\n",
              "      <td>2021-09-08</td>\n",
              "      <td>2021-09-11</td>\n",
              "      <td>2021-09-15</td>\n",
              "    </tr>\n",
              "    <tr>\n",
              "      <th>4</th>\n",
              "      <td>2021-09-28</td>\n",
              "      <td>2021-09-28</td>\n",
              "      <td>2021-09-30</td>\n",
              "      <td>2021-10-01</td>\n",
              "    </tr>\n",
              "  </tbody>\n",
              "</table>\n",
              "</div>\n",
              "      <button class=\"colab-df-convert\" onclick=\"convertToInteractive('df-fd83a017-eb9d-4ea9-888a-57dd175a7380')\"\n",
              "              title=\"Convert this dataframe to an interactive table.\"\n",
              "              style=\"display:none;\">\n",
              "        \n",
              "  <svg xmlns=\"http://www.w3.org/2000/svg\" height=\"24px\"viewBox=\"0 0 24 24\"\n",
              "       width=\"24px\">\n",
              "    <path d=\"M0 0h24v24H0V0z\" fill=\"none\"/>\n",
              "    <path d=\"M18.56 5.44l.94 2.06.94-2.06 2.06-.94-2.06-.94-.94-2.06-.94 2.06-2.06.94zm-11 1L8.5 8.5l.94-2.06 2.06-.94-2.06-.94L8.5 2.5l-.94 2.06-2.06.94zm10 10l.94 2.06.94-2.06 2.06-.94-2.06-.94-.94-2.06-.94 2.06-2.06.94z\"/><path d=\"M17.41 7.96l-1.37-1.37c-.4-.4-.92-.59-1.43-.59-.52 0-1.04.2-1.43.59L10.3 9.45l-7.72 7.72c-.78.78-.78 2.05 0 2.83L4 21.41c.39.39.9.59 1.41.59.51 0 1.02-.2 1.41-.59l7.78-7.78 2.81-2.81c.8-.78.8-2.07 0-2.86zM5.41 20L4 18.59l7.72-7.72 1.47 1.35L5.41 20z\"/>\n",
              "  </svg>\n",
              "      </button>\n",
              "      \n",
              "  <style>\n",
              "    .colab-df-container {\n",
              "      display:flex;\n",
              "      flex-wrap:wrap;\n",
              "      gap: 12px;\n",
              "    }\n",
              "\n",
              "    .colab-df-convert {\n",
              "      background-color: #E8F0FE;\n",
              "      border: none;\n",
              "      border-radius: 50%;\n",
              "      cursor: pointer;\n",
              "      display: none;\n",
              "      fill: #1967D2;\n",
              "      height: 32px;\n",
              "      padding: 0 0 0 0;\n",
              "      width: 32px;\n",
              "    }\n",
              "\n",
              "    .colab-df-convert:hover {\n",
              "      background-color: #E2EBFA;\n",
              "      box-shadow: 0px 1px 2px rgba(60, 64, 67, 0.3), 0px 1px 3px 1px rgba(60, 64, 67, 0.15);\n",
              "      fill: #174EA6;\n",
              "    }\n",
              "\n",
              "    [theme=dark] .colab-df-convert {\n",
              "      background-color: #3B4455;\n",
              "      fill: #D2E3FC;\n",
              "    }\n",
              "\n",
              "    [theme=dark] .colab-df-convert:hover {\n",
              "      background-color: #434B5C;\n",
              "      box-shadow: 0px 1px 3px 1px rgba(0, 0, 0, 0.15);\n",
              "      filter: drop-shadow(0px 1px 2px rgba(0, 0, 0, 0.3));\n",
              "      fill: #FFFFFF;\n",
              "    }\n",
              "  </style>\n",
              "\n",
              "      <script>\n",
              "        const buttonEl =\n",
              "          document.querySelector('#df-fd83a017-eb9d-4ea9-888a-57dd175a7380 button.colab-df-convert');\n",
              "        buttonEl.style.display =\n",
              "          google.colab.kernel.accessAllowed ? 'block' : 'none';\n",
              "\n",
              "        async function convertToInteractive(key) {\n",
              "          const element = document.querySelector('#df-fd83a017-eb9d-4ea9-888a-57dd175a7380');\n",
              "          const dataTable =\n",
              "            await google.colab.kernel.invokeFunction('convertToInteractive',\n",
              "                                                     [key], {});\n",
              "          if (!dataTable) return;\n",
              "\n",
              "          const docLinkHtml = 'Like what you see? Visit the ' +\n",
              "            '<a target=\"_blank\" href=https://colab.research.google.com/notebooks/data_table.ipynb>data table notebook</a>'\n",
              "            + ' to learn more about interactive tables.';\n",
              "          element.innerHTML = '';\n",
              "          dataTable['output_type'] = 'display_data';\n",
              "          await google.colab.output.renderOutput(dataTable, element);\n",
              "          const docLink = document.createElement('div');\n",
              "          docLink.innerHTML = docLinkHtml;\n",
              "          element.appendChild(docLink);\n",
              "        }\n",
              "      </script>\n",
              "    </div>\n",
              "  </div>\n",
              "  "
            ],
            "text/plain": [
              "      ARRIVAL PROCESS STARTED PROCESS FINISHED \\n(yyyy/mm/dd)  \\\n",
              "0  2021-07-25      2021-07-26                      2021-07-30   \n",
              "1  2021-08-19      2021-08-19                      2021-08-24   \n",
              "2  2021-09-06      2021-09-07                      2021-09-10   \n",
              "3  2021-09-08      2021-09-08                      2021-09-11   \n",
              "4  2021-09-28      2021-09-28                      2021-09-30   \n",
              "\n",
              "  DELIVERY DATE \\n(yyyy/mm/dd)  \n",
              "0                   2021-07-31  \n",
              "1                   2021-08-27  \n",
              "2                   2021-09-10  \n",
              "3                   2021-09-15  \n",
              "4                   2021-10-01  "
            ]
          },
          "execution_count": 55,
          "metadata": {},
          "output_type": "execute_result"
        }
      ],
      "source": [
        "data.head()"
      ]
    },
    {
      "cell_type": "code",
      "execution_count": null,
      "metadata": {
        "colab": {
          "base_uri": "https://localhost:8080/",
          "height": 174
        },
        "id": "e2gBN3KuqGjD",
        "outputId": "dc4dc833-01b2-4a9b-a5a1-af3fac1747d7"
      },
      "outputs": [
        {
          "data": {
            "text/html": [
              "\n",
              "  <div id=\"df-ef3b09ee-b9d2-4bf4-a2c6-ca13f9538799\">\n",
              "    <div class=\"colab-df-container\">\n",
              "      <div>\n",
              "<style scoped>\n",
              "    .dataframe tbody tr th:only-of-type {\n",
              "        vertical-align: middle;\n",
              "    }\n",
              "\n",
              "    .dataframe tbody tr th {\n",
              "        vertical-align: top;\n",
              "    }\n",
              "\n",
              "    .dataframe thead th {\n",
              "        text-align: right;\n",
              "    }\n",
              "</style>\n",
              "<table border=\"1\" class=\"dataframe\">\n",
              "  <thead>\n",
              "    <tr style=\"text-align: right;\">\n",
              "      <th></th>\n",
              "      <th>ARRIVAL</th>\n",
              "      <th>PROCESS STARTED</th>\n",
              "      <th>PROCESS FINISHED \\n(yyyy/mm/dd)</th>\n",
              "      <th>DELIVERY DATE \\n(yyyy/mm/dd)</th>\n",
              "    </tr>\n",
              "  </thead>\n",
              "  <tbody>\n",
              "    <tr>\n",
              "      <th>count</th>\n",
              "      <td>957</td>\n",
              "      <td>957</td>\n",
              "      <td>957</td>\n",
              "      <td>957</td>\n",
              "    </tr>\n",
              "    <tr>\n",
              "      <th>unique</th>\n",
              "      <td>609</td>\n",
              "      <td>589</td>\n",
              "      <td>605</td>\n",
              "      <td>621</td>\n",
              "    </tr>\n",
              "    <tr>\n",
              "      <th>top</th>\n",
              "      <td>2019-11-01</td>\n",
              "      <td>2019-11-04</td>\n",
              "      <td>2019-11-06</td>\n",
              "      <td>2019-11-08</td>\n",
              "    </tr>\n",
              "    <tr>\n",
              "      <th>freq</th>\n",
              "      <td>29</td>\n",
              "      <td>23</td>\n",
              "      <td>13</td>\n",
              "      <td>14</td>\n",
              "    </tr>\n",
              "  </tbody>\n",
              "</table>\n",
              "</div>\n",
              "      <button class=\"colab-df-convert\" onclick=\"convertToInteractive('df-ef3b09ee-b9d2-4bf4-a2c6-ca13f9538799')\"\n",
              "              title=\"Convert this dataframe to an interactive table.\"\n",
              "              style=\"display:none;\">\n",
              "        \n",
              "  <svg xmlns=\"http://www.w3.org/2000/svg\" height=\"24px\"viewBox=\"0 0 24 24\"\n",
              "       width=\"24px\">\n",
              "    <path d=\"M0 0h24v24H0V0z\" fill=\"none\"/>\n",
              "    <path d=\"M18.56 5.44l.94 2.06.94-2.06 2.06-.94-2.06-.94-.94-2.06-.94 2.06-2.06.94zm-11 1L8.5 8.5l.94-2.06 2.06-.94-2.06-.94L8.5 2.5l-.94 2.06-2.06.94zm10 10l.94 2.06.94-2.06 2.06-.94-2.06-.94-.94-2.06-.94 2.06-2.06.94z\"/><path d=\"M17.41 7.96l-1.37-1.37c-.4-.4-.92-.59-1.43-.59-.52 0-1.04.2-1.43.59L10.3 9.45l-7.72 7.72c-.78.78-.78 2.05 0 2.83L4 21.41c.39.39.9.59 1.41.59.51 0 1.02-.2 1.41-.59l7.78-7.78 2.81-2.81c.8-.78.8-2.07 0-2.86zM5.41 20L4 18.59l7.72-7.72 1.47 1.35L5.41 20z\"/>\n",
              "  </svg>\n",
              "      </button>\n",
              "      \n",
              "  <style>\n",
              "    .colab-df-container {\n",
              "      display:flex;\n",
              "      flex-wrap:wrap;\n",
              "      gap: 12px;\n",
              "    }\n",
              "\n",
              "    .colab-df-convert {\n",
              "      background-color: #E8F0FE;\n",
              "      border: none;\n",
              "      border-radius: 50%;\n",
              "      cursor: pointer;\n",
              "      display: none;\n",
              "      fill: #1967D2;\n",
              "      height: 32px;\n",
              "      padding: 0 0 0 0;\n",
              "      width: 32px;\n",
              "    }\n",
              "\n",
              "    .colab-df-convert:hover {\n",
              "      background-color: #E2EBFA;\n",
              "      box-shadow: 0px 1px 2px rgba(60, 64, 67, 0.3), 0px 1px 3px 1px rgba(60, 64, 67, 0.15);\n",
              "      fill: #174EA6;\n",
              "    }\n",
              "\n",
              "    [theme=dark] .colab-df-convert {\n",
              "      background-color: #3B4455;\n",
              "      fill: #D2E3FC;\n",
              "    }\n",
              "\n",
              "    [theme=dark] .colab-df-convert:hover {\n",
              "      background-color: #434B5C;\n",
              "      box-shadow: 0px 1px 3px 1px rgba(0, 0, 0, 0.15);\n",
              "      filter: drop-shadow(0px 1px 2px rgba(0, 0, 0, 0.3));\n",
              "      fill: #FFFFFF;\n",
              "    }\n",
              "  </style>\n",
              "\n",
              "      <script>\n",
              "        const buttonEl =\n",
              "          document.querySelector('#df-ef3b09ee-b9d2-4bf4-a2c6-ca13f9538799 button.colab-df-convert');\n",
              "        buttonEl.style.display =\n",
              "          google.colab.kernel.accessAllowed ? 'block' : 'none';\n",
              "\n",
              "        async function convertToInteractive(key) {\n",
              "          const element = document.querySelector('#df-ef3b09ee-b9d2-4bf4-a2c6-ca13f9538799');\n",
              "          const dataTable =\n",
              "            await google.colab.kernel.invokeFunction('convertToInteractive',\n",
              "                                                     [key], {});\n",
              "          if (!dataTable) return;\n",
              "\n",
              "          const docLinkHtml = 'Like what you see? Visit the ' +\n",
              "            '<a target=\"_blank\" href=https://colab.research.google.com/notebooks/data_table.ipynb>data table notebook</a>'\n",
              "            + ' to learn more about interactive tables.';\n",
              "          element.innerHTML = '';\n",
              "          dataTable['output_type'] = 'display_data';\n",
              "          await google.colab.output.renderOutput(dataTable, element);\n",
              "          const docLink = document.createElement('div');\n",
              "          docLink.innerHTML = docLinkHtml;\n",
              "          element.appendChild(docLink);\n",
              "        }\n",
              "      </script>\n",
              "    </div>\n",
              "  </div>\n",
              "  "
            ],
            "text/plain": [
              "           ARRIVAL PROCESS STARTED PROCESS FINISHED \\n(yyyy/mm/dd)  \\\n",
              "count          957             957                             957   \n",
              "unique         609             589                             605   \n",
              "top     2019-11-01      2019-11-04                      2019-11-06   \n",
              "freq            29              23                              13   \n",
              "\n",
              "       DELIVERY DATE \\n(yyyy/mm/dd)  \n",
              "count                           957  \n",
              "unique                          621  \n",
              "top                      2019-11-08  \n",
              "freq                             14  "
            ]
          },
          "execution_count": 56,
          "metadata": {},
          "output_type": "execute_result"
        }
      ],
      "source": [
        "data.describe()"
      ]
    },
    {
      "cell_type": "code",
      "execution_count": null,
      "metadata": {
        "colab": {
          "base_uri": "https://localhost:8080/"
        },
        "id": "Ip8MK1Q5qOWx",
        "outputId": "20b760d9-bccd-4100-aa07-bc1a6f8e5003"
      },
      "outputs": [
        {
          "data": {
            "text/plain": [
              "ARRIVAL                            0\n",
              "PROCESS STARTED                    0\n",
              "PROCESS FINISHED \\n(yyyy/mm/dd)    0\n",
              "DELIVERY DATE \\n(yyyy/mm/dd)       0\n",
              "dtype: int64"
            ]
          },
          "execution_count": 57,
          "metadata": {},
          "output_type": "execute_result"
        }
      ],
      "source": [
        "data.isnull().sum()"
      ]
    },
    {
      "attachments": {},
      "cell_type": "markdown",
      "metadata": {
        "id": "UBoQxagaqbJ6"
      },
      "source": [
        "*If there are null values, delete it*"
      ]
    },
    {
      "cell_type": "code",
      "execution_count": null,
      "metadata": {
        "id": "VVOF4fkkqawD"
      },
      "outputs": [],
      "source": [
        "data.dropna(inplace=True)"
      ]
    },
    {
      "cell_type": "code",
      "execution_count": null,
      "metadata": {
        "colab": {
          "base_uri": "https://localhost:8080/"
        },
        "id": "v3HGjtw_rHsr",
        "outputId": "3cbd0b1d-31b4-4190-b4c6-f171e22ff554"
      },
      "outputs": [
        {
          "data": {
            "text/plain": [
              "Index(['ARRIVAL', 'PROCESS STARTED', 'PROCESS FINISHED \\n(yyyy/mm/dd)',\n",
              "       'DELIVERY DATE \\n(yyyy/mm/dd)'],\n",
              "      dtype='object')"
            ]
          },
          "execution_count": 59,
          "metadata": {},
          "output_type": "execute_result"
        }
      ],
      "source": [
        "data.columns"
      ]
    },
    {
      "cell_type": "code",
      "execution_count": null,
      "metadata": {
        "id": "ku3ZbPO2t_tH"
      },
      "outputs": [],
      "source": [
        "for col in ['ARRIVAL', 'PROCESS STARTED', 'PROCESS FINISHED \\n(yyyy/mm/dd)','DELIVERY DATE \\n(yyyy/mm/dd)']:\n",
        "    data[col] = pd.to_datetime(data[col]).astype(int) / 10**9\n"
      ]
    },
    {
      "cell_type": "code",
      "execution_count": null,
      "metadata": {
        "id": "niwOCx7RLTJc"
      },
      "outputs": [],
      "source": [
        "\n",
        "data[\"processing_duration\"] = (data[\"PROCESS FINISHED \\n(yyyy/mm/dd)\"] - data[\"ARRIVAL\"])/86400\n",
        "data[\"delivery_duration\"] = (data[\"DELIVERY DATE \\n(yyyy/mm/dd)\"] - data[\"ARRIVAL\"])/86400\n",
        "\n",
        "# data[\"arrival_processing_duration\"] = data[\"PROCESS STARTED\"] - data[\"ARRIVAL\"]\n",
        "# data[\"processing_duration\"] = data[\"PROCESS FINISHED \\n(yyyy/mm/dd)\"] - data[\"PROCESS STARTED\"]\n",
        "# data[\"delivery_duration\"] = data[\"DELIVERY DATE \\n(yyyy/mm/dd)\"] - data[\"ARRIVAL\"]\n",
        "\n"
      ]
    },
    {
      "cell_type": "code",
      "execution_count": null,
      "metadata": {
        "colab": {
          "base_uri": "https://localhost:8080/",
          "height": 675
        },
        "id": "QcLoZKPjMfHL",
        "outputId": "7709a0fa-d684-4e9c-bd55-6d9bc187b5d8"
      },
      "outputs": [
        {
          "data": {
            "text/html": [
              "\n",
              "  <div id=\"df-921097b0-84ba-47fa-8255-f44b1b5702b6\">\n",
              "    <div class=\"colab-df-container\">\n",
              "      <div>\n",
              "<style scoped>\n",
              "    .dataframe tbody tr th:only-of-type {\n",
              "        vertical-align: middle;\n",
              "    }\n",
              "\n",
              "    .dataframe tbody tr th {\n",
              "        vertical-align: top;\n",
              "    }\n",
              "\n",
              "    .dataframe thead th {\n",
              "        text-align: right;\n",
              "    }\n",
              "</style>\n",
              "<table border=\"1\" class=\"dataframe\">\n",
              "  <thead>\n",
              "    <tr style=\"text-align: right;\">\n",
              "      <th></th>\n",
              "      <th>ARRIVAL</th>\n",
              "      <th>PROCESS STARTED</th>\n",
              "      <th>PROCESS FINISHED \\n(yyyy/mm/dd)</th>\n",
              "      <th>DELIVERY DATE \\n(yyyy/mm/dd)</th>\n",
              "      <th>processing_duration</th>\n",
              "      <th>delivery_duration</th>\n",
              "    </tr>\n",
              "  </thead>\n",
              "  <tbody>\n",
              "    <tr>\n",
              "      <th>0</th>\n",
              "      <td>1.627171e+09</td>\n",
              "      <td>1.627258e+09</td>\n",
              "      <td>1.627603e+09</td>\n",
              "      <td>1.627690e+09</td>\n",
              "      <td>5.0</td>\n",
              "      <td>6.0</td>\n",
              "    </tr>\n",
              "    <tr>\n",
              "      <th>1</th>\n",
              "      <td>1.629331e+09</td>\n",
              "      <td>1.629331e+09</td>\n",
              "      <td>1.629763e+09</td>\n",
              "      <td>1.630022e+09</td>\n",
              "      <td>5.0</td>\n",
              "      <td>8.0</td>\n",
              "    </tr>\n",
              "    <tr>\n",
              "      <th>2</th>\n",
              "      <td>1.630886e+09</td>\n",
              "      <td>1.630973e+09</td>\n",
              "      <td>1.631232e+09</td>\n",
              "      <td>1.631232e+09</td>\n",
              "      <td>4.0</td>\n",
              "      <td>4.0</td>\n",
              "    </tr>\n",
              "    <tr>\n",
              "      <th>3</th>\n",
              "      <td>1.631059e+09</td>\n",
              "      <td>1.631059e+09</td>\n",
              "      <td>1.631318e+09</td>\n",
              "      <td>1.631664e+09</td>\n",
              "      <td>3.0</td>\n",
              "      <td>7.0</td>\n",
              "    </tr>\n",
              "    <tr>\n",
              "      <th>4</th>\n",
              "      <td>1.632787e+09</td>\n",
              "      <td>1.632787e+09</td>\n",
              "      <td>1.632960e+09</td>\n",
              "      <td>1.633046e+09</td>\n",
              "      <td>2.0</td>\n",
              "      <td>3.0</td>\n",
              "    </tr>\n",
              "    <tr>\n",
              "      <th>5</th>\n",
              "      <td>1.634256e+09</td>\n",
              "      <td>1.634342e+09</td>\n",
              "      <td>1.634774e+09</td>\n",
              "      <td>1.635379e+09</td>\n",
              "      <td>6.0</td>\n",
              "      <td>13.0</td>\n",
              "    </tr>\n",
              "    <tr>\n",
              "      <th>6</th>\n",
              "      <td>1.635120e+09</td>\n",
              "      <td>1.635120e+09</td>\n",
              "      <td>1.635552e+09</td>\n",
              "      <td>1.635984e+09</td>\n",
              "      <td>5.0</td>\n",
              "      <td>10.0</td>\n",
              "    </tr>\n",
              "    <tr>\n",
              "      <th>7</th>\n",
              "      <td>1.635293e+09</td>\n",
              "      <td>1.635379e+09</td>\n",
              "      <td>1.635466e+09</td>\n",
              "      <td>1.635984e+09</td>\n",
              "      <td>2.0</td>\n",
              "      <td>8.0</td>\n",
              "    </tr>\n",
              "    <tr>\n",
              "      <th>8</th>\n",
              "      <td>1.635293e+09</td>\n",
              "      <td>1.635293e+09</td>\n",
              "      <td>1.635552e+09</td>\n",
              "      <td>1.636157e+09</td>\n",
              "      <td>3.0</td>\n",
              "      <td>10.0</td>\n",
              "    </tr>\n",
              "    <tr>\n",
              "      <th>9</th>\n",
              "      <td>1.635120e+09</td>\n",
              "      <td>1.635120e+09</td>\n",
              "      <td>1.635466e+09</td>\n",
              "      <td>1.637021e+09</td>\n",
              "      <td>4.0</td>\n",
              "      <td>22.0</td>\n",
              "    </tr>\n",
              "    <tr>\n",
              "      <th>10</th>\n",
              "      <td>1.637539e+09</td>\n",
              "      <td>1.637712e+09</td>\n",
              "      <td>1.638058e+09</td>\n",
              "      <td>1.638058e+09</td>\n",
              "      <td>6.0</td>\n",
              "      <td>6.0</td>\n",
              "    </tr>\n",
              "    <tr>\n",
              "      <th>11</th>\n",
              "      <td>1.637712e+09</td>\n",
              "      <td>1.637798e+09</td>\n",
              "      <td>1.638144e+09</td>\n",
              "      <td>1.638317e+09</td>\n",
              "      <td>5.0</td>\n",
              "      <td>7.0</td>\n",
              "    </tr>\n",
              "    <tr>\n",
              "      <th>12</th>\n",
              "      <td>1.638230e+09</td>\n",
              "      <td>1.638230e+09</td>\n",
              "      <td>1.638490e+09</td>\n",
              "      <td>1.638576e+09</td>\n",
              "      <td>3.0</td>\n",
              "      <td>4.0</td>\n",
              "    </tr>\n",
              "    <tr>\n",
              "      <th>13</th>\n",
              "      <td>1.638490e+09</td>\n",
              "      <td>1.638576e+09</td>\n",
              "      <td>1.639094e+09</td>\n",
              "      <td>1.639267e+09</td>\n",
              "      <td>7.0</td>\n",
              "      <td>9.0</td>\n",
              "    </tr>\n",
              "    <tr>\n",
              "      <th>14</th>\n",
              "      <td>1.633046e+09</td>\n",
              "      <td>1.633046e+09</td>\n",
              "      <td>1.633478e+09</td>\n",
              "      <td>1.633997e+09</td>\n",
              "      <td>5.0</td>\n",
              "      <td>11.0</td>\n",
              "    </tr>\n",
              "    <tr>\n",
              "      <th>15</th>\n",
              "      <td>1.636762e+09</td>\n",
              "      <td>1.636848e+09</td>\n",
              "      <td>1.637366e+09</td>\n",
              "      <td>1.637798e+09</td>\n",
              "      <td>7.0</td>\n",
              "      <td>12.0</td>\n",
              "    </tr>\n",
              "    <tr>\n",
              "      <th>16</th>\n",
              "      <td>1.636675e+09</td>\n",
              "      <td>1.636675e+09</td>\n",
              "      <td>1.636848e+09</td>\n",
              "      <td>1.637366e+09</td>\n",
              "      <td>2.0</td>\n",
              "      <td>8.0</td>\n",
              "    </tr>\n",
              "    <tr>\n",
              "      <th>17</th>\n",
              "      <td>1.639958e+09</td>\n",
              "      <td>1.639958e+09</td>\n",
              "      <td>1.640304e+09</td>\n",
              "      <td>1.641686e+09</td>\n",
              "      <td>4.0</td>\n",
              "      <td>20.0</td>\n",
              "    </tr>\n",
              "  </tbody>\n",
              "</table>\n",
              "</div>\n",
              "      <button class=\"colab-df-convert\" onclick=\"convertToInteractive('df-921097b0-84ba-47fa-8255-f44b1b5702b6')\"\n",
              "              title=\"Convert this dataframe to an interactive table.\"\n",
              "              style=\"display:none;\">\n",
              "        \n",
              "  <svg xmlns=\"http://www.w3.org/2000/svg\" height=\"24px\"viewBox=\"0 0 24 24\"\n",
              "       width=\"24px\">\n",
              "    <path d=\"M0 0h24v24H0V0z\" fill=\"none\"/>\n",
              "    <path d=\"M18.56 5.44l.94 2.06.94-2.06 2.06-.94-2.06-.94-.94-2.06-.94 2.06-2.06.94zm-11 1L8.5 8.5l.94-2.06 2.06-.94-2.06-.94L8.5 2.5l-.94 2.06-2.06.94zm10 10l.94 2.06.94-2.06 2.06-.94-2.06-.94-.94-2.06-.94 2.06-2.06.94z\"/><path d=\"M17.41 7.96l-1.37-1.37c-.4-.4-.92-.59-1.43-.59-.52 0-1.04.2-1.43.59L10.3 9.45l-7.72 7.72c-.78.78-.78 2.05 0 2.83L4 21.41c.39.39.9.59 1.41.59.51 0 1.02-.2 1.41-.59l7.78-7.78 2.81-2.81c.8-.78.8-2.07 0-2.86zM5.41 20L4 18.59l7.72-7.72 1.47 1.35L5.41 20z\"/>\n",
              "  </svg>\n",
              "      </button>\n",
              "      \n",
              "  <style>\n",
              "    .colab-df-container {\n",
              "      display:flex;\n",
              "      flex-wrap:wrap;\n",
              "      gap: 12px;\n",
              "    }\n",
              "\n",
              "    .colab-df-convert {\n",
              "      background-color: #E8F0FE;\n",
              "      border: none;\n",
              "      border-radius: 50%;\n",
              "      cursor: pointer;\n",
              "      display: none;\n",
              "      fill: #1967D2;\n",
              "      height: 32px;\n",
              "      padding: 0 0 0 0;\n",
              "      width: 32px;\n",
              "    }\n",
              "\n",
              "    .colab-df-convert:hover {\n",
              "      background-color: #E2EBFA;\n",
              "      box-shadow: 0px 1px 2px rgba(60, 64, 67, 0.3), 0px 1px 3px 1px rgba(60, 64, 67, 0.15);\n",
              "      fill: #174EA6;\n",
              "    }\n",
              "\n",
              "    [theme=dark] .colab-df-convert {\n",
              "      background-color: #3B4455;\n",
              "      fill: #D2E3FC;\n",
              "    }\n",
              "\n",
              "    [theme=dark] .colab-df-convert:hover {\n",
              "      background-color: #434B5C;\n",
              "      box-shadow: 0px 1px 3px 1px rgba(0, 0, 0, 0.15);\n",
              "      filter: drop-shadow(0px 1px 2px rgba(0, 0, 0, 0.3));\n",
              "      fill: #FFFFFF;\n",
              "    }\n",
              "  </style>\n",
              "\n",
              "      <script>\n",
              "        const buttonEl =\n",
              "          document.querySelector('#df-921097b0-84ba-47fa-8255-f44b1b5702b6 button.colab-df-convert');\n",
              "        buttonEl.style.display =\n",
              "          google.colab.kernel.accessAllowed ? 'block' : 'none';\n",
              "\n",
              "        async function convertToInteractive(key) {\n",
              "          const element = document.querySelector('#df-921097b0-84ba-47fa-8255-f44b1b5702b6');\n",
              "          const dataTable =\n",
              "            await google.colab.kernel.invokeFunction('convertToInteractive',\n",
              "                                                     [key], {});\n",
              "          if (!dataTable) return;\n",
              "\n",
              "          const docLinkHtml = 'Like what you see? Visit the ' +\n",
              "            '<a target=\"_blank\" href=https://colab.research.google.com/notebooks/data_table.ipynb>data table notebook</a>'\n",
              "            + ' to learn more about interactive tables.';\n",
              "          element.innerHTML = '';\n",
              "          dataTable['output_type'] = 'display_data';\n",
              "          await google.colab.output.renderOutput(dataTable, element);\n",
              "          const docLink = document.createElement('div');\n",
              "          docLink.innerHTML = docLinkHtml;\n",
              "          element.appendChild(docLink);\n",
              "        }\n",
              "      </script>\n",
              "    </div>\n",
              "  </div>\n",
              "  "
            ],
            "text/plain": [
              "         ARRIVAL  PROCESS STARTED  PROCESS FINISHED \\n(yyyy/mm/dd)  \\\n",
              "0   1.627171e+09     1.627258e+09                     1.627603e+09   \n",
              "1   1.629331e+09     1.629331e+09                     1.629763e+09   \n",
              "2   1.630886e+09     1.630973e+09                     1.631232e+09   \n",
              "3   1.631059e+09     1.631059e+09                     1.631318e+09   \n",
              "4   1.632787e+09     1.632787e+09                     1.632960e+09   \n",
              "5   1.634256e+09     1.634342e+09                     1.634774e+09   \n",
              "6   1.635120e+09     1.635120e+09                     1.635552e+09   \n",
              "7   1.635293e+09     1.635379e+09                     1.635466e+09   \n",
              "8   1.635293e+09     1.635293e+09                     1.635552e+09   \n",
              "9   1.635120e+09     1.635120e+09                     1.635466e+09   \n",
              "10  1.637539e+09     1.637712e+09                     1.638058e+09   \n",
              "11  1.637712e+09     1.637798e+09                     1.638144e+09   \n",
              "12  1.638230e+09     1.638230e+09                     1.638490e+09   \n",
              "13  1.638490e+09     1.638576e+09                     1.639094e+09   \n",
              "14  1.633046e+09     1.633046e+09                     1.633478e+09   \n",
              "15  1.636762e+09     1.636848e+09                     1.637366e+09   \n",
              "16  1.636675e+09     1.636675e+09                     1.636848e+09   \n",
              "17  1.639958e+09     1.639958e+09                     1.640304e+09   \n",
              "\n",
              "    DELIVERY DATE \\n(yyyy/mm/dd)  processing_duration  delivery_duration  \n",
              "0                   1.627690e+09                  5.0                6.0  \n",
              "1                   1.630022e+09                  5.0                8.0  \n",
              "2                   1.631232e+09                  4.0                4.0  \n",
              "3                   1.631664e+09                  3.0                7.0  \n",
              "4                   1.633046e+09                  2.0                3.0  \n",
              "5                   1.635379e+09                  6.0               13.0  \n",
              "6                   1.635984e+09                  5.0               10.0  \n",
              "7                   1.635984e+09                  2.0                8.0  \n",
              "8                   1.636157e+09                  3.0               10.0  \n",
              "9                   1.637021e+09                  4.0               22.0  \n",
              "10                  1.638058e+09                  6.0                6.0  \n",
              "11                  1.638317e+09                  5.0                7.0  \n",
              "12                  1.638576e+09                  3.0                4.0  \n",
              "13                  1.639267e+09                  7.0                9.0  \n",
              "14                  1.633997e+09                  5.0               11.0  \n",
              "15                  1.637798e+09                  7.0               12.0  \n",
              "16                  1.637366e+09                  2.0                8.0  \n",
              "17                  1.641686e+09                  4.0               20.0  "
            ]
          },
          "execution_count": 62,
          "metadata": {},
          "output_type": "execute_result"
        }
      ],
      "source": [
        "data.head(18)"
      ]
    },
    {
      "cell_type": "code",
      "execution_count": null,
      "metadata": {
        "colab": {
          "base_uri": "https://localhost:8080/",
          "height": 531
        },
        "id": "ERviPWUfpdWp",
        "outputId": "53dc6bc7-c377-4ef1-bd61-4027997fd025"
      },
      "outputs": [
        {
          "data": {
            "text/plain": [
              "<seaborn.axisgrid.FacetGrid at 0x7f8ddd587580>"
            ]
          },
          "execution_count": 63,
          "metadata": {},
          "output_type": "execute_result"
        },
        {
          "data": {
            "image/png": "[encoded data removed]",
            "text/plain": [
              "<Figure size 500x500 with 1 Axes>"
            ]
          },
          "metadata": {},
          "output_type": "display_data"
        }
      ],
      "source": [
        "plot = sns.relplot(x='ARRIVAL', y='DELIVERY DATE \\n(yyyy/mm/dd)',data=data)\n",
        "plot.set(title='Delivery Date vs Arrival of Item')"
      ]
    },
    {
      "cell_type": "code",
      "execution_count": null,
      "metadata": {
        "colab": {
          "base_uri": "https://localhost:8080/",
          "height": 531
        },
        "id": "BPgQ9i2_6sF9",
        "outputId": "7ab1ecaf-44f1-4c8a-dc21-14ac416480f8"
      },
      "outputs": [
        {
          "data": {
            "text/plain": [
              "<seaborn.axisgrid.FacetGrid at 0x7f8ddd2dac50>"
            ]
          },
          "execution_count": 64,
          "metadata": {},
          "output_type": "execute_result"
        },
        {
          "data": {
            "image/png": "[encoded data removed]",
            "text/plain": [
              "<Figure size 500x500 with 1 Axes>"
            ]
          },
          "metadata": {},
          "output_type": "display_data"
        }
      ],
      "source": [
        "plot = sns.relplot(y='DELIVERY DATE \\n(yyyy/mm/dd)', x='PROCESS STARTED',data=data)\n",
        "plot.set(title='Delivery Date vs Started item processing')"
      ]
    },
    {
      "cell_type": "code",
      "execution_count": null,
      "metadata": {
        "colab": {
          "base_uri": "https://localhost:8080/",
          "height": 562
        },
        "id": "cfW9abwj6jdY",
        "outputId": "6ab50266-6fa8-4d68-a4c5-988a5c1043aa"
      },
      "outputs": [
        {
          "data": {
            "text/plain": [
              "<seaborn.axisgrid.FacetGrid at 0x7f8dd85a98a0>"
            ]
          },
          "execution_count": 65,
          "metadata": {},
          "output_type": "execute_result"
        },
        {
          "data": {
            "image/png": "[encoded data removed]",
            "text/plain": [
              "<Figure size 500x500 with 1 Axes>"
            ]
          },
          "metadata": {},
          "output_type": "display_data"
        }
      ],
      "source": [
        "plot = sns.relplot(y='DELIVERY DATE \\n(yyyy/mm/dd)', x='PROCESS FINISHED \\n(yyyy/mm/dd)',data=data)\n",
        "plot.set(title='Delivery Date vs Finished item processing')"
      ]
    },
    {
      "cell_type": "code",
      "execution_count": null,
      "metadata": {
        "id": "tLizNJjOr_db"
      },
      "outputs": [],
      "source": [
        "\n",
        "X =  data[[\"ARRIVAL\", \"PROCESS STARTED\", \"PROCESS FINISHED \\n(yyyy/mm/dd)\"]]\n",
        "y = data[\"DELIVERY DATE \\n(yyyy/mm/dd)\"]\n",
        "\n",
        "# shuffle the dataset\n",
        "X, y = shuffle(X, y, random_state=42)\n",
        "\n",
        "# feature selection\n",
        "selector = SelectKBest(score_func=f_regression, k=3)\n",
        "X = selector.fit_transform(X, y)\n",
        "\n",
        "# data normalization\n",
        "scaler = MinMaxScaler()\n",
        "X = scaler.fit_transform(X)"
      ]
    },
    {
      "attachments": {},
      "cell_type": "markdown",
      "metadata": {
        "id": "3YJ1IvashUy8"
      },
      "source": [
        "#Hyperparameter tuning"
      ]
    },
    {
      "cell_type": "code",
      "execution_count": null,
      "metadata": {
        "id": "VNudeGXYhUfd"
      },
      "outputs": [],
      "source": [
        "# model selection and hyperparameter tuning\n",
        "models = {\n",
        "    \"Linear Regression\": LinearRegression(),\n",
        "    \"Ridge Regression\": Ridge(),\n",
        "    \"Lasso Regression\": Lasso(),\n",
        "    \"Random Forest Regression\": RandomForestRegressor(),\n",
        "    \"Gradient Boosting Regression\": GradientBoostingRegressor(),\n",
        "    \"Support Vector Regression\": SVR()\n",
        "}"
      ]
    },
    {
      "cell_type": "code",
      "execution_count": null,
      "metadata": {
        "id": "nIerfDXHhZeq"
      },
      "outputs": [],
      "source": [
        "params = {\n",
        "    \"Linear Regression\": {},\n",
        "    \"Ridge Regression\": {\"alpha\": [0.1, 1.0, 10.0], \"solver\": [\"auto\", \"svd\", \"cholesky\", \"lsqr\", \"sparse_cg\"]},\n",
        "    \"Lasso Regression\": {\"alpha\": [0.1, 1.0, 10.0], \"selection\": [\"cyclic\", \"random\"]},\n",
        "    \"Random Forest Regression\": {\"n_estimators\": [100, 500, 1000], \"max_depth\": [10, 50, None], \"min_samples_split\": [2, 5, 10]},\n",
        "    \"Gradient Boosting Regression\": {\"n_estimators\": [100, 500, 1000], \"max_depth\": [10, 50, None], \"learning_rate\": [0.01, 0.1, 1.0]},\n",
        "    \"Support Vector Regression\": {\"C\": [0.1, 1.0, 10.0], \"epsilon\": [0.01, 0.1, 1.0], \"kernel\": [\"linear\", \"poly\", \"rbf\", \"sigmoid\"]}\n",
        "}\n"
      ]
    },
    {
      "cell_type": "code",
      "execution_count": null,
      "metadata": {
        "id": "H-byi4VrhaSs"
      },
      "outputs": [],
      "source": [
        "best_model = None\n",
        "best_score = float(\"-inf\")"
      ]
    },
    {
      "cell_type": "code",
      "execution_count": null,
      "metadata": {
        "colab": {
          "base_uri": "https://localhost:8080/"
        },
        "id": "FemxuEKFhc64",
        "outputId": "5f9ea911-a0e5-464f-dfd1-38c7b1434de3"
      },
      "outputs": [
        {
          "name": "stderr",
          "output_type": "stream",
          "text": [
            "/usr/local/lib/python3.10/dist-packages/sklearn/linear_model/_coordinate_descent.py:631: ConvergenceWarning: Objective did not converge. You might want to increase the number of iterations, check the scale of the features or consider increasing regularisation. Duality gap: 1.801e+15, tolerance: 2.268e+14\n",
            "  model = cd_fast.enet_coordinate_descent(\n",
            "/usr/local/lib/python3.10/dist-packages/sklearn/linear_model/_coordinate_descent.py:631: ConvergenceWarning: Objective did not converge. You might want to increase the number of iterations, check the scale of the features or consider increasing regularisation. Duality gap: 1.269e+15, tolerance: 2.251e+14\n",
            "  model = cd_fast.enet_coordinate_descent(\n",
            "/usr/local/lib/python3.10/dist-packages/sklearn/linear_model/_coordinate_descent.py:631: ConvergenceWarning: Objective did not converge. You might want to increase the number of iterations, check the scale of the features or consider increasing regularisation. Duality gap: 2.294e+15, tolerance: 2.268e+14\n",
            "  model = cd_fast.enet_coordinate_descent(\n",
            "/usr/local/lib/python3.10/dist-packages/sklearn/linear_model/_coordinate_descent.py:631: ConvergenceWarning: Objective did not converge. You might want to increase the number of iterations, check the scale of the features or consider increasing regularisation. Duality gap: 2.282e+15, tolerance: 2.213e+14\n",
            "  model = cd_fast.enet_coordinate_descent(\n",
            "/usr/local/lib/python3.10/dist-packages/sklearn/linear_model/_coordinate_descent.py:631: ConvergenceWarning: Objective did not converge. You might want to increase the number of iterations, check the scale of the features or consider increasing regularisation. Duality gap: 1.873e+15, tolerance: 2.190e+14\n",
            "  model = cd_fast.enet_coordinate_descent(\n",
            "/usr/local/lib/python3.10/dist-packages/sklearn/linear_model/_coordinate_descent.py:631: ConvergenceWarning: Objective did not converge. You might want to increase the number of iterations, check the scale of the features or consider increasing regularisation. Duality gap: 1.452e+15, tolerance: 2.268e+14\n",
            "  model = cd_fast.enet_coordinate_descent(\n",
            "/usr/local/lib/python3.10/dist-packages/sklearn/linear_model/_coordinate_descent.py:631: ConvergenceWarning: Objective did not converge. You might want to increase the number of iterations, check the scale of the features or consider increasing regularisation. Duality gap: 1.432e+15, tolerance: 2.251e+14\n",
            "  model = cd_fast.enet_coordinate_descent(\n",
            "/usr/local/lib/python3.10/dist-packages/sklearn/linear_model/_coordinate_descent.py:631: ConvergenceWarning: Objective did not converge. You might want to increase the number of iterations, check the scale of the features or consider increasing regularisation. Duality gap: 2.360e+15, tolerance: 2.268e+14\n",
            "  model = cd_fast.enet_coordinate_descent(\n",
            "/usr/local/lib/python3.10/dist-packages/sklearn/linear_model/_coordinate_descent.py:631: ConvergenceWarning: Objective did not converge. You might want to increase the number of iterations, check the scale of the features or consider increasing regularisation. Duality gap: 1.935e+15, tolerance: 2.213e+14\n",
            "  model = cd_fast.enet_coordinate_descent(\n",
            "/usr/local/lib/python3.10/dist-packages/sklearn/linear_model/_coordinate_descent.py:631: ConvergenceWarning: Objective did not converge. You might want to increase the number of iterations, check the scale of the features or consider increasing regularisation. Duality gap: 2.103e+15, tolerance: 2.190e+14\n",
            "  model = cd_fast.enet_coordinate_descent(\n",
            "/usr/local/lib/python3.10/dist-packages/sklearn/linear_model/_coordinate_descent.py:631: ConvergenceWarning: Objective did not converge. You might want to increase the number of iterations, check the scale of the features or consider increasing regularisation. Duality gap: 1.801e+15, tolerance: 2.268e+14\n",
            "  model = cd_fast.enet_coordinate_descent(\n",
            "/usr/local/lib/python3.10/dist-packages/sklearn/linear_model/_coordinate_descent.py:631: ConvergenceWarning: Objective did not converge. You might want to increase the number of iterations, check the scale of the features or consider increasing regularisation. Duality gap: 1.269e+15, tolerance: 2.251e+14\n",
            "  model = cd_fast.enet_coordinate_descent(\n",
            "/usr/local/lib/python3.10/dist-packages/sklearn/linear_model/_coordinate_descent.py:631: ConvergenceWarning: Objective did not converge. You might want to increase the number of iterations, check the scale of the features or consider increasing regularisation. Duality gap: 2.294e+15, tolerance: 2.268e+14\n",
            "  model = cd_fast.enet_coordinate_descent(\n",
            "/usr/local/lib/python3.10/dist-packages/sklearn/linear_model/_coordinate_descent.py:631: ConvergenceWarning: Objective did not converge. You might want to increase the number of iterations, check the scale of the features or consider increasing regularisation. Duality gap: 2.282e+15, tolerance: 2.213e+14\n",
            "  model = cd_fast.enet_coordinate_descent(\n",
            "/usr/local/lib/python3.10/dist-packages/sklearn/linear_model/_coordinate_descent.py:631: ConvergenceWarning: Objective did not converge. You might want to increase the number of iterations, check the scale of the features or consider increasing regularisation. Duality gap: 1.873e+15, tolerance: 2.190e+14\n",
            "  model = cd_fast.enet_coordinate_descent(\n",
            "/usr/local/lib/python3.10/dist-packages/sklearn/linear_model/_coordinate_descent.py:631: ConvergenceWarning: Objective did not converge. You might want to increase the number of iterations, check the scale of the features or consider increasing regularisation. Duality gap: 1.451e+15, tolerance: 2.268e+14\n",
            "  model = cd_fast.enet_coordinate_descent(\n",
            "/usr/local/lib/python3.10/dist-packages/sklearn/linear_model/_coordinate_descent.py:631: ConvergenceWarning: Objective did not converge. You might want to increase the number of iterations, check the scale of the features or consider increasing regularisation. Duality gap: 1.413e+15, tolerance: 2.251e+14\n",
            "  model = cd_fast.enet_coordinate_descent(\n",
            "/usr/local/lib/python3.10/dist-packages/sklearn/linear_model/_coordinate_descent.py:631: ConvergenceWarning: Objective did not converge. You might want to increase the number of iterations, check the scale of the features or consider increasing regularisation. Duality gap: 2.496e+15, tolerance: 2.268e+14\n",
            "  model = cd_fast.enet_coordinate_descent(\n",
            "/usr/local/lib/python3.10/dist-packages/sklearn/linear_model/_coordinate_descent.py:631: ConvergenceWarning: Objective did not converge. You might want to increase the number of iterations, check the scale of the features or consider increasing regularisation. Duality gap: 2.348e+15, tolerance: 2.213e+14\n",
            "  model = cd_fast.enet_coordinate_descent(\n",
            "/usr/local/lib/python3.10/dist-packages/sklearn/linear_model/_coordinate_descent.py:631: ConvergenceWarning: Objective did not converge. You might want to increase the number of iterations, check the scale of the features or consider increasing regularisation. Duality gap: 2.110e+15, tolerance: 2.190e+14\n",
            "  model = cd_fast.enet_coordinate_descent(\n",
            "/usr/local/lib/python3.10/dist-packages/sklearn/linear_model/_coordinate_descent.py:631: ConvergenceWarning: Objective did not converge. You might want to increase the number of iterations, check the scale of the features or consider increasing regularisation. Duality gap: 1.798e+15, tolerance: 2.268e+14\n",
            "  model = cd_fast.enet_coordinate_descent(\n",
            "/usr/local/lib/python3.10/dist-packages/sklearn/linear_model/_coordinate_descent.py:631: ConvergenceWarning: Objective did not converge. You might want to increase the number of iterations, check the scale of the features or consider increasing regularisation. Duality gap: 1.268e+15, tolerance: 2.251e+14\n",
            "  model = cd_fast.enet_coordinate_descent(\n",
            "/usr/local/lib/python3.10/dist-packages/sklearn/linear_model/_coordinate_descent.py:631: ConvergenceWarning: Objective did not converge. You might want to increase the number of iterations, check the scale of the features or consider increasing regularisation. Duality gap: 2.292e+15, tolerance: 2.268e+14\n",
            "  model = cd_fast.enet_coordinate_descent(\n",
            "/usr/local/lib/python3.10/dist-packages/sklearn/linear_model/_coordinate_descent.py:631: ConvergenceWarning: Objective did not converge. You might want to increase the number of iterations, check the scale of the features or consider increasing regularisation. Duality gap: 2.279e+15, tolerance: 2.213e+14\n",
            "  model = cd_fast.enet_coordinate_descent(\n",
            "/usr/local/lib/python3.10/dist-packages/sklearn/linear_model/_coordinate_descent.py:631: ConvergenceWarning: Objective did not converge. You might want to increase the number of iterations, check the scale of the features or consider increasing regularisation. Duality gap: 1.871e+15, tolerance: 2.190e+14\n",
            "  model = cd_fast.enet_coordinate_descent(\n",
            "/usr/local/lib/python3.10/dist-packages/sklearn/linear_model/_coordinate_descent.py:631: ConvergenceWarning: Objective did not converge. You might want to increase the number of iterations, check the scale of the features or consider increasing regularisation. Duality gap: 1.446e+15, tolerance: 2.268e+14\n",
            "  model = cd_fast.enet_coordinate_descent(\n",
            "/usr/local/lib/python3.10/dist-packages/sklearn/linear_model/_coordinate_descent.py:631: ConvergenceWarning: Objective did not converge. You might want to increase the number of iterations, check the scale of the features or consider increasing regularisation. Duality gap: 5.545e+14, tolerance: 2.251e+14\n",
            "  model = cd_fast.enet_coordinate_descent(\n",
            "/usr/local/lib/python3.10/dist-packages/sklearn/linear_model/_coordinate_descent.py:631: ConvergenceWarning: Objective did not converge. You might want to increase the number of iterations, check the scale of the features or consider increasing regularisation. Duality gap: 1.919e+15, tolerance: 2.268e+14\n",
            "  model = cd_fast.enet_coordinate_descent(\n",
            "/usr/local/lib/python3.10/dist-packages/sklearn/linear_model/_coordinate_descent.py:631: ConvergenceWarning: Objective did not converge. You might want to increase the number of iterations, check the scale of the features or consider increasing regularisation. Duality gap: 2.516e+15, tolerance: 2.213e+14\n",
            "  model = cd_fast.enet_coordinate_descent(\n",
            "/usr/local/lib/python3.10/dist-packages/sklearn/linear_model/_coordinate_descent.py:631: ConvergenceWarning: Objective did not converge. You might want to increase the number of iterations, check the scale of the features or consider increasing regularisation. Duality gap: 1.848e+15, tolerance: 2.190e+14\n",
            "  model = cd_fast.enet_coordinate_descent(\n",
            "/usr/local/lib/python3.10/dist-packages/sklearn/linear_model/_coordinate_descent.py:631: ConvergenceWarning: Objective did not converge. You might want to increase the number of iterations, check the scale of the features or consider increasing regularisation. Duality gap: 2.426e+15, tolerance: 2.799e+14\n",
            "  model = cd_fast.enet_coordinate_descent(\n"
          ]
        }
      ],
      "source": [
        "for name, model in models.items():\n",
        "    pipeline = model\n",
        "    clf = GridSearchCV(pipeline, params[name], cv=5, scoring=\"r2\")\n",
        "    clf.fit(X, y)\n",
        "    score = clf.best_score_\n",
        "    if score > best_score:\n",
        "        best_score = score\n",
        "        best_model = clf.best_estimator_"
      ]
    },
    {
      "cell_type": "code",
      "execution_count": null,
      "metadata": {
        "id": "wHJicFR5iQlB"
      },
      "outputs": [],
      "source": [
        "# cross-validation\n",
        "scores = []\n",
        "kfolds = 5\n",
        "for i in range(kfolds):\n",
        "    X_train, X_test, y_train, y_test = train_test_split(X, y, test_size=0.3, random_state=i)\n",
        "    y_pred = best_model.predict(X_test)\n",
        "    mae = mean_absolute_error(y_test, y_pred)\n",
        "    mse = mean_squared_error(y_test, y_pred)\n",
        "    rmse = np.sqrt(mse)\n",
        "    r2 = r2_score(y_test, y_pred)\n",
        "    scores.append((mae, mse, rmse, r2))\n"
      ]
    },
    {
      "cell_type": "code",
      "execution_count": null,
      "metadata": {
        "colab": {
          "base_uri": "https://localhost:8080/"
        },
        "id": "92szwYRTibXB",
        "outputId": "91b26009-0539-41f3-9a1b-e59c4eb379a4"
      },
      "outputs": [
        {
          "name": "stdout",
          "output_type": "stream",
          "text": [
            "Fold 1 results:\n",
            "MAE: 23801.92\n",
            "MSE: 18400981420.12\n",
            "RMSE: 135650.22\n",
            "R2: 1.00\n",
            "==============================\n",
            "Fold 2 results:\n",
            "MAE: 31603.85\n",
            "MSE: 29530682840.24\n",
            "RMSE: 171844.94\n",
            "R2: 1.00\n",
            "==============================\n",
            "Fold 3 results:\n",
            "MAE: 10332.69\n",
            "MSE: 5419441065.09\n",
            "RMSE: 73616.85\n",
            "R2: 1.00\n",
            "==============================\n",
            "Fold 4 results:\n",
            "MAE: 24475.00\n",
            "MSE: 22106331479.29\n",
            "RMSE: 148681.98\n",
            "R2: 1.00\n",
            "==============================\n",
            "Fold 5 results:\n",
            "MAE: 27644.23\n",
            "MSE: 26583951834.32\n",
            "RMSE: 163045.86\n",
            "R2: 1.00\n",
            "==============================\n"
          ]
        }
      ],
      "source": [
        "# print results\n",
        "for i, (mae, mse, rmse, r2) in enumerate(scores):\n",
        "    print(f\"Fold {i+1} results:\")\n",
        "    print(f\"MAE: {mae:.2f}\")\n",
        "    print(f\"MSE: {mse:.2f}\")\n",
        "    print(f\"RMSE: {rmse:.2f}\")\n",
        "    print(f\"R2: {r2:.2f}\")\n",
        "    print(\"=\"*30)"
      ]
    },
    {
      "cell_type": "code",
      "execution_count": null,
      "metadata": {
        "colab": {
          "base_uri": "https://localhost:8080/"
        },
        "id": "e33aRSDTjXo1",
        "outputId": "0ebdfc60-441d-4e0c-c060-a2d0bf094d94"
      },
      "outputs": [
        {
          "name": "stdout",
          "output_type": "stream",
          "text": [
            "Final Model:\n",
            "GradientBoostingRegressor(learning_rate=1.0, max_depth=50, n_estimators=500)\n",
            "Final Score:\n",
            "0.9984052673654492\n"
          ]
        }
      ],
      "source": [
        "# final model\n",
        "print(\"Final Model:\")\n",
        "print(best_model)\n",
        "print(\"Final Score:\")\n",
        "print(best_score)"
      ]
    },
    {
      "attachments": {},
      "cell_type": "markdown",
      "metadata": {
        "id": "PiscLISdk7GC"
      },
      "source": [
        "#Test training using tuned hyperparameter"
      ]
    },
    {
      "cell_type": "code",
      "execution_count": null,
      "metadata": {
        "id": "00hHUDlYlvRy"
      },
      "outputs": [],
      "source": [
        "X_train, X_test, y_train, y_test = train_test_split(X, y, test_size=0.3, random_state=10)"
      ]
    },
    {
      "cell_type": "code",
      "execution_count": null,
      "metadata": {
        "id": "IBCqYemoljYN"
      },
      "outputs": [],
      "source": [
        "model = make_pipeline(StandardScaler(),LinearRegression())\n",
        "model.fit(X_train, y_train)\n",
        "y_pred = model.predict(X_test)"
      ]
    },
    {
      "cell_type": "code",
      "execution_count": null,
      "metadata": {
        "id": "G7sq3ZOZl0nS"
      },
      "outputs": [],
      "source": [
        "mae = mean_absolute_error(y_test, y_pred)\n",
        "mse = mean_squared_error(y_test, y_pred)\n",
        "rmse = np.sqrt(mse)\n",
        "r2 = r2_score(y_test, y_pred)\n",
        "train_score = model.score(X_train, y_train)\n",
        "test_score = model.score(X_test, y_test)\n"
      ]
    },
    {
      "cell_type": "code",
      "execution_count": null,
      "metadata": {
        "colab": {
          "base_uri": "https://localhost:8080/"
        },
        "id": "QX-KEmS4l4Km",
        "outputId": "e1420765-7b0f-431e-e5d8-5befcab2d553"
      },
      "outputs": [
        {
          "name": "stdout",
          "output_type": "stream",
          "text": [
            "MAE: 262979.03584044345\n",
            "MSE: 634694921530.1427\n",
            "RMSE: 796677.4262712247\n",
            "R2: 0.9997848293997322\n",
            "Training score: 0.9980674336223412\n",
            "Testing score: 0.9997848293997322\n"
          ]
        }
      ],
      "source": [
        "print(\"MAE:\", mae)\n",
        "print(\"MSE:\", mse)\n",
        "print(\"RMSE:\", rmse)\n",
        "print(\"R2:\", r2)\n",
        "print(\"Training score:\", train_score)\n",
        "print(\"Testing score:\", test_score)"
      ]
    },
    {
      "cell_type": "code",
      "execution_count": null,
      "metadata": {
        "id": "yVFWwfyLmbHW"
      },
      "outputs": [],
      "source": [
        "y_pred_best = best_model.predict(X_test)\n",
        "mae_best = mean_absolute_error(y_test, y_pred_best)\n",
        "mse_best = mean_squared_error(y_test, y_pred_best)\n",
        "rmse_best = np.sqrt(mse_best)\n",
        "r2_best = r2_score(y_test, y_pred_best)\n",
        "train_score = best_model.score(X_train, y_train)\n",
        "test_score = best_model.score(X_test, y_test)"
      ]
    },
    {
      "cell_type": "code",
      "execution_count": null,
      "metadata": {
        "colab": {
          "base_uri": "https://localhost:8080/"
        },
        "id": "A7lkAoEcmnfU",
        "outputId": "7848c2dd-e147-431b-ad0c-f9f3c0091e53"
      },
      "outputs": [
        {
          "name": "stdout",
          "output_type": "stream",
          "text": [
            "MAE: 20526.92307692435\n",
            "MSE: 10564321420.118395\n",
            "RMSE: 102782.88485987535\n",
            "R2: 0.9999964185448721\n",
            "Training score: 0.9999936889508236\n",
            "Testing score: 0.9999964185448721\n"
          ]
        }
      ],
      "source": [
        "print(\"MAE:\", mae_best)\n",
        "print(\"MSE:\", mse_best)\n",
        "print(\"RMSE:\", rmse_best)\n",
        "print(\"R2:\", r2_best)\n",
        "print(\"Training score:\", train_score)\n",
        "print(\"Testing score:\", test_score)"
      ]
    },
    {
      "attachments": {},
      "cell_type": "markdown",
      "metadata": {
        "id": "NjBYrpJDkgti"
      },
      "source": [
        "#Model Validation"
      ]
    },
    {
      "cell_type": "code",
      "execution_count": null,
      "metadata": {
        "id": "5cuy-f3gkiMj"
      },
      "outputs": [],
      "source": [
        "kfold = KFold(n_splits=10, shuffle=True, random_state=10)"
      ]
    },
    {
      "cell_type": "code",
      "execution_count": null,
      "metadata": {
        "id": "P4dqFnypkjlL"
      },
      "outputs": [],
      "source": [
        "scores = cross_val_score(best_model, X, y, cv=kfold, scoring='neg_mean_squared_error')"
      ]
    },
    {
      "cell_type": "code",
      "execution_count": null,
      "metadata": {
        "id": "eszuZhP1ktDm"
      },
      "outputs": [],
      "source": [
        "# calculate the mean and standard deviation of the scores\n",
        "mean_score = -1 * scores.mean()\n",
        "std_score = scores.std()"
      ]
    },
    {
      "cell_type": "code",
      "execution_count": null,
      "metadata": {
        "colab": {
          "base_uri": "https://localhost:8080/"
        },
        "id": "Dm8GrhpnkvV1",
        "outputId": "d3154cfe-b51b-4bd3-f2ac-0a531aa6d557"
      },
      "outputs": [
        {
          "name": "stdout",
          "output_type": "stream",
          "text": [
            "Mean score: 8744186642938.856\n",
            "Standard deviation: 12084456987349.543\n"
          ]
        }
      ],
      "source": [
        "# print the results\n",
        "print(\"Mean score:\", mean_score)\n",
        "print(\"Standard deviation:\", std_score)"
      ]
    },
    {
      "cell_type": "code",
      "execution_count": null,
      "metadata": {},
      "outputs": [],
      "source": []
    },
    {
      "attachments": {},
      "cell_type": "markdown",
      "metadata": {
        "id": "aueGdhO1kqyM"
      },
      "source": [
        "#Test Prediction"
      ]
    },
    {
      "cell_type": "code",
      "execution_count": null,
      "metadata": {
        "id": "cJ_RQn2B0IMp"
      },
      "outputs": [],
      "source": [
        "new_shipment = pd.DataFrame({'ARRIVAL': ['2021-10-01'], 'PROCESS STARTED': ['2021-10-01'], \n",
        "                             'PROCESS FINISHED \\n(yyyy/mm/dd)': ['2021-10-07']})"
      ]
    },
    {
      "cell_type": "code",
      "execution_count": null,
      "metadata": {
        "id": "zTWlmgK40KnZ"
      },
      "outputs": [],
      "source": [
        "new_shipment['ARRIVAL'] = pd.to_datetime(new_shipment['ARRIVAL'])\n",
        "new_shipment['PROCESS STARTED'] = pd.to_datetime(new_shipment['PROCESS STARTED'])\n",
        "new_shipment['PROCESS FINISHED \\n(yyyy/mm/dd)'] = pd.to_datetime(new_shipment['PROCESS FINISHED \\n(yyyy/mm/dd)'])\n"
      ]
    },
    {
      "cell_type": "code",
      "execution_count": null,
      "metadata": {
        "id": "BUItIFic0c01"
      },
      "outputs": [],
      "source": [
        "new_shipment['ARRIVAL'] = new_shipment['ARRIVAL'].apply(lambda x: x.timestamp())\n",
        "new_shipment['PROCESS STARTED'] = new_shipment['PROCESS STARTED'].apply(lambda x: x.timestamp())\n",
        "new_shipment['PROCESS FINISHED \\n(yyyy/mm/dd)'] = new_shipment['PROCESS FINISHED \\n(yyyy/mm/dd)'].apply(lambda x: x.timestamp())\n"
      ]
    },
    {
      "cell_type": "code",
      "execution_count": null,
      "metadata": {
        "colab": {
          "base_uri": "https://localhost:8080/",
          "height": 80
        },
        "id": "OQxraxPT0sKp",
        "outputId": "12b50a3c-08b6-4113-91e8-03444047c150"
      },
      "outputs": [
        {
          "data": {
            "text/html": [
              "\n",
              "  <div id=\"df-3708b635-2772-4e23-b66b-e0ad666f0d28\">\n",
              "    <div class=\"colab-df-container\">\n",
              "      <div>\n",
              "<style scoped>\n",
              "    .dataframe tbody tr th:only-of-type {\n",
              "        vertical-align: middle;\n",
              "    }\n",
              "\n",
              "    .dataframe tbody tr th {\n",
              "        vertical-align: top;\n",
              "    }\n",
              "\n",
              "    .dataframe thead th {\n",
              "        text-align: right;\n",
              "    }\n",
              "</style>\n",
              "<table border=\"1\" class=\"dataframe\">\n",
              "  <thead>\n",
              "    <tr style=\"text-align: right;\">\n",
              "      <th></th>\n",
              "      <th>ARRIVAL</th>\n",
              "      <th>PROCESS STARTED</th>\n",
              "      <th>PROCESS FINISHED \\n(yyyy/mm/dd)</th>\n",
              "    </tr>\n",
              "  </thead>\n",
              "  <tbody>\n",
              "    <tr>\n",
              "      <th>0</th>\n",
              "      <td>1.633046e+09</td>\n",
              "      <td>1.633046e+09</td>\n",
              "      <td>1.633565e+09</td>\n",
              "    </tr>\n",
              "  </tbody>\n",
              "</table>\n",
              "</div>\n",
              "      <button class=\"colab-df-convert\" onclick=\"convertToInteractive('df-3708b635-2772-4e23-b66b-e0ad666f0d28')\"\n",
              "              title=\"Convert this dataframe to an interactive table.\"\n",
              "              style=\"display:none;\">\n",
              "        \n",
              "  <svg xmlns=\"http://www.w3.org/2000/svg\" height=\"24px\"viewBox=\"0 0 24 24\"\n",
              "       width=\"24px\">\n",
              "    <path d=\"M0 0h24v24H0V0z\" fill=\"none\"/>\n",
              "    <path d=\"M18.56 5.44l.94 2.06.94-2.06 2.06-.94-2.06-.94-.94-2.06-.94 2.06-2.06.94zm-11 1L8.5 8.5l.94-2.06 2.06-.94-2.06-.94L8.5 2.5l-.94 2.06-2.06.94zm10 10l.94 2.06.94-2.06 2.06-.94-2.06-.94-.94-2.06-.94 2.06-2.06.94z\"/><path d=\"M17.41 7.96l-1.37-1.37c-.4-.4-.92-.59-1.43-.59-.52 0-1.04.2-1.43.59L10.3 9.45l-7.72 7.72c-.78.78-.78 2.05 0 2.83L4 21.41c.39.39.9.59 1.41.59.51 0 1.02-.2 1.41-.59l7.78-7.78 2.81-2.81c.8-.78.8-2.07 0-2.86zM5.41 20L4 18.59l7.72-7.72 1.47 1.35L5.41 20z\"/>\n",
              "  </svg>\n",
              "      </button>\n",
              "      \n",
              "  <style>\n",
              "    .colab-df-container {\n",
              "      display:flex;\n",
              "      flex-wrap:wrap;\n",
              "      gap: 12px;\n",
              "    }\n",
              "\n",
              "    .colab-df-convert {\n",
              "      background-color: #E8F0FE;\n",
              "      border: none;\n",
              "      border-radius: 50%;\n",
              "      cursor: pointer;\n",
              "      display: none;\n",
              "      fill: #1967D2;\n",
              "      height: 32px;\n",
              "      padding: 0 0 0 0;\n",
              "      width: 32px;\n",
              "    }\n",
              "\n",
              "    .colab-df-convert:hover {\n",
              "      background-color: #E2EBFA;\n",
              "      box-shadow: 0px 1px 2px rgba(60, 64, 67, 0.3), 0px 1px 3px 1px rgba(60, 64, 67, 0.15);\n",
              "      fill: #174EA6;\n",
              "    }\n",
              "\n",
              "    [theme=dark] .colab-df-convert {\n",
              "      background-color: #3B4455;\n",
              "      fill: #D2E3FC;\n",
              "    }\n",
              "\n",
              "    [theme=dark] .colab-df-convert:hover {\n",
              "      background-color: #434B5C;\n",
              "      box-shadow: 0px 1px 3px 1px rgba(0, 0, 0, 0.15);\n",
              "      filter: drop-shadow(0px 1px 2px rgba(0, 0, 0, 0.3));\n",
              "      fill: #FFFFFF;\n",
              "    }\n",
              "  </style>\n",
              "\n",
              "      <script>\n",
              "        const buttonEl =\n",
              "          document.querySelector('#df-3708b635-2772-4e23-b66b-e0ad666f0d28 button.colab-df-convert');\n",
              "        buttonEl.style.display =\n",
              "          google.colab.kernel.accessAllowed ? 'block' : 'none';\n",
              "\n",
              "        async function convertToInteractive(key) {\n",
              "          const element = document.querySelector('#df-3708b635-2772-4e23-b66b-e0ad666f0d28');\n",
              "          const dataTable =\n",
              "            await google.colab.kernel.invokeFunction('convertToInteractive',\n",
              "                                                     [key], {});\n",
              "          if (!dataTable) return;\n",
              "\n",
              "          const docLinkHtml = 'Like what you see? Visit the ' +\n",
              "            '<a target=\"_blank\" href=https://colab.research.google.com/notebooks/data_table.ipynb>data table notebook</a>'\n",
              "            + ' to learn more about interactive tables.';\n",
              "          element.innerHTML = '';\n",
              "          dataTable['output_type'] = 'display_data';\n",
              "          await google.colab.output.renderOutput(dataTable, element);\n",
              "          const docLink = document.createElement('div');\n",
              "          docLink.innerHTML = docLinkHtml;\n",
              "          element.appendChild(docLink);\n",
              "        }\n",
              "      </script>\n",
              "    </div>\n",
              "  </div>\n",
              "  "
            ],
            "text/plain": [
              "        ARRIVAL  PROCESS STARTED  PROCESS FINISHED \\n(yyyy/mm/dd)\n",
              "0  1.633046e+09     1.633046e+09                     1.633565e+09"
            ]
          },
          "execution_count": 167,
          "metadata": {},
          "output_type": "execute_result"
        }
      ],
      "source": [
        "new_shipment"
      ]
    },
    {
      "attachments": {},
      "cell_type": "markdown",
      "metadata": {
        "id": "mxJFI_3xZlYL"
      },
      "source": [
        "#**DATA FOR TRAINING**"
      ]
    },
    {
      "cell_type": "code",
      "execution_count": null,
      "metadata": {
        "colab": {
          "base_uri": "https://localhost:8080/"
        },
        "id": "SPhR9hhlUNTE",
        "outputId": "b1586f27-f573-4ced-becc-cac96196d91b"
      },
      "outputs": [
        {
          "data": {
            "text/plain": [
              "1634158184.376963"
            ]
          },
          "execution_count": 168,
          "metadata": {},
          "output_type": "execute_result"
        }
      ],
      "source": [
        "X = new_shipment[['ARRIVAL', 'PROCESS STARTED', 'PROCESS FINISHED \\n(yyyy/mm/dd)']]\n",
        "\n",
        "\n",
        "X_new = selector.transform(X)\n",
        "X_new = scaler.transform(X_new)\n",
        "y_pred = model.predict(X_new)\n",
        "y_pred[0]"
      ]
    },
    {
      "cell_type": "code",
      "execution_count": null,
      "metadata": {
        "colab": {
          "base_uri": "https://localhost:8080/"
        },
        "id": "12UAkJiU0w0k",
        "outputId": "c062eb8e-5d0a-4464-e034-33eb69f26107"
      },
      "outputs": [
        {
          "name": "stdout",
          "output_type": "stream",
          "text": [
            "Best model prediction:  2021-10-13 20:49:44.376962816\n"
          ]
        }
      ],
      "source": [
        "print(\"Best model prediction: \",  pd.to_datetime(y_pred[0], unit='s'))\n"
      ]
    },
    {
      "attachments": {},
      "cell_type": "markdown",
      "metadata": {
        "id": "fRA3HlhM4ZRo"
      },
      "source": [
        "#Save Model"
      ]
    },
    {
      "cell_type": "code",
      "execution_count": null,
      "metadata": {
        "colab": {
          "base_uri": "https://localhost:8080/"
        },
        "id": "e6hHcwIz4YVv",
        "outputId": "4a52af71-84c2-413e-9692-c41f0d45d2b8"
      },
      "outputs": [
        {
          "data": {
            "text/plain": [
              "['scaler.joblib']"
            ]
          },
          "execution_count": 170,
          "metadata": {},
          "output_type": "execute_result"
        }
      ],
      "source": [
        "dump(model, 'delivery_prediction.joblib')\n",
        "dump(selector, \"selector.joblib\")\n",
        "dump(scaler, \"scaler.joblib\")"
      ]
    }
  ],
  "metadata": {
    "accelerator": "GPU",
    "colab": {
      "collapsed_sections": [
        "XtVJvI-eHA8A",
        "NjBYrpJDkgti"
      ],
      "provenance": []
    },
    "gpuClass": "standard",
    "kernelspec": {
      "display_name": "Python 3",
      "name": "python3"
    },
    "language_info": {
      "name": "python"
    }
  },
  "nbformat": 4,
  "nbformat_minor": 0
}
